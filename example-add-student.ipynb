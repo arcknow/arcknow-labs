{
 "cells": [
  {
   "cell_type": "code",
   "execution_count": null,
   "id": "762f2f26",
   "metadata": {},
   "outputs": [],
   "source": [
    "# Cocalc doc https://cocalc.com/api/python/\n",
    "# Run pip install cocalc-api in commandline\n",
    "# Create api key from https://cocalc.com/settings - scroll down to API keys section \n",
    "# Work with Cocalc team to create an organization - get the org name and org id\n",
    "\n",
    "import cocalc_api\n",
    "\n",
    "hub = cocalc_api.Hub('<your-api-key sk-...>')\n",
    "user_account_id = hub.org.create_user('<org name>', \n",
    "                                      '<student email>',\n",
    "                                      '<first name>',\n",
    "                                      '<last name>',\n",
    "                                      '<password>')\n",
    "\n",
    "token, url = hub.org.create_token(user_account_id) # User can use the url directly to login\n",
    "project_acount_id = hub.create_project('<project name>')\n",
    "projects = hub.projects.add_collaborator(project_acount_id, user_account_id)\n",
    "_ = hub.projects.copy_path_between_projects('<source project id>', \n",
    "                                            '<source path>',\n",
    "                                            project_acount_id)\n",
    "\n",
    "print(url)\n",
    "\n",
    "# For testing purposes, access url from browser to check student setup"
   ]
  }
 ],
 "metadata": {
  "kernelspec": {
   "display_name": "es_knowledge",
   "language": "python",
   "name": "python3"
  },
  "language_info": {
   "codemirror_mode": {
    "name": "ipython",
    "version": 3
   },
   "file_extension": ".py",
   "mimetype": "text/x-python",
   "name": "python",
   "nbconvert_exporter": "python",
   "pygments_lexer": "ipython3",
   "version": "3.12.7"
  }
 },
 "nbformat": 4,
 "nbformat_minor": 5
}
